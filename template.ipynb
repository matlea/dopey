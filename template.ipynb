{
 "cells": [
  {
   "cell_type": "markdown",
   "id": "aeaa6780",
   "metadata": {},
   "source": [
    "dopey notebook\n",
    "\n",
    "# Title\n",
    "\n",
    "The latest version of <b>dopey</b> can be downloaded from https://github.com/matlea/dopey.\n",
    "\n",
    "See documents doped.pdf and dopey_dictionaries.pdf for help, or use help(method)."
   ]
  },
  {
   "cell_type": "markdown",
   "id": "24c8aaa6",
   "metadata": {},
   "source": [
    "<hr>"
   ]
  },
  {
   "cell_type": "markdown",
   "id": "39ff2eab",
   "metadata": {},
   "source": [
    "<font color = \"orange\">Set the path to your dopey folder.</font>"
   ]
  },
  {
   "cell_type": "code",
   "execution_count": 1,
   "id": "b748d229",
   "metadata": {},
   "outputs": [
    {
     "name": "stdout",
     "output_type": "stream",
     "text": [
      "dopey, Mats Leandersson\n",
      "dopey.dopey_constants, 24.09.18\n",
      "dopey.dopey_loader, 24.08.30\n",
      "dopey.dopey_plot, 24.11.22\n",
      "dopey.dopey_methods, 24.10.30\n",
      "dopey.dopey_spin, 24.12.03\n",
      "dopey.dopey_export2txt, 24.11.30\n",
      "dopey.dopey_dichroism, 24.11.22b\n"
     ]
    }
   ],
   "source": [
    "path_to_dopey = \"C:\\\\Users\\\\bloch-user\\\\Documents\\\\Scripts\\\\dopey\"\n",
    "\n",
    "import sys\n",
    "sys.path.append(path_to_dopey)\n",
    "import dopey as dop\n",
    "import matplotlib.pyplot as plt\n",
    "import numpy as np"
   ]
  },
  {
   "cell_type": "markdown",
   "id": "a6d7e892",
   "metadata": {},
   "source": [
    "<hr>"
   ]
  },
  {
   "cell_type": "code",
   "execution_count": null,
   "id": "81df972a",
   "metadata": {},
   "outputs": [],
   "source": [
    "scan = dop.load('file_name.xy')\n",
    "dop.plot(scan, shup = True)"
   ]
  }
 ],
 "metadata": {
  "kernelspec": {
   "display_name": "base",
   "language": "python",
   "name": "python3"
  },
  "language_info": {
   "codemirror_mode": {
    "name": "ipython",
    "version": 3
   },
   "file_extension": ".py",
   "mimetype": "text/x-python",
   "name": "python",
   "nbconvert_exporter": "python",
   "pygments_lexer": "ipython3",
   "version": "3.9.13"
  }
 },
 "nbformat": 4,
 "nbformat_minor": 5
}
